{
 "cells": [
  {
   "cell_type": "code",
   "execution_count": 10,
   "id": "94f0629b-ff01-418b-bc6e-1a5081a97449",
   "metadata": {},
   "outputs": [
    {
     "data": {
      "text/plain": [
       "distributed_rollout_solver (generic function with 1 method)"
      ]
     },
     "execution_count": 10,
     "metadata": {},
     "output_type": "execute_result"
    }
   ],
   "source": [
    "using LinearAlgebra\n",
    "using Distributions\n",
    "# using BenchmarkTools\n",
    "include(\"../rollout.jl\")"
   ]
  },
  {
   "cell_type": "code",
   "execution_count": 7,
   "id": "cac2969d-79df-4734-aad4-13b10d969d25",
   "metadata": {},
   "outputs": [
    {
     "data": {
      "text/plain": [
       "RBFsurrogate(RBFfun([1.0], var\"#ψ#1208\"{var\"#k#1218\", Vector{Float64}}(var\"#k#1218\"(), [1.0]), var\"#Dρ_ψ#1209\"{var\"#ψ#1208\"{var\"#k#1218\", Vector{Float64}}}(var\"#ψ#1208\"{var\"#k#1218\", Vector{Float64}}(var\"#k#1218\"(), [1.0])), var\"#Dρρ_ψ#1210\"{var\"#Dρ_ψ#1209\"{var\"#ψ#1208\"{var\"#k#1218\", Vector{Float64}}}}(var\"#Dρ_ψ#1209\"{var\"#ψ#1208\"{var\"#k#1218\", Vector{Float64}}}(var\"#ψ#1208\"{var\"#k#1218\", Vector{Float64}}(var\"#k#1218\"(), [1.0]))), var\"#∇θ_ψ#1211\"{var\"#k#1218\", Vector{Float64}}(var\"#k#1218\"(), [1.0])), [-11.788114887006063;;], [1.000001;;], [1.000000499999875;;], [0.0], [0.0], 1.0e-6, 19.557688215996997)"
      ]
     },
     "execution_count": 7,
     "metadata": {},
     "output_type": "execute_result"
    }
   ],
   "source": [
    "θ, σn2 = [1.], 1e-6\n",
    "ψ = kernel_matern52(θ)\n",
    "testfn = TestAckley(1)\n",
    "lbs, ubs = testfn.bounds[:, 1], testfn.bounds[:, 2]\n",
    "\n",
    "Xinit = rand(Uniform(lbs[1], ubs[1]), testfn.dim, 1)\n",
    "yinit = testfn.f.(eachcol(Xinit))\n",
    "sur = fit_surrogate(ψ, Xinit, yinit; σn2=σn2)"
   ]
  },
  {
   "cell_type": "code",
   "execution_count": 8,
   "id": "8988b5b8-6826-4d4b-b183-c479f8160fb0",
   "metadata": {},
   "outputs": [
    {
     "data": {
      "text/plain": [
       "RBFsurrogate"
      ]
     },
     "execution_count": 8,
     "metadata": {},
     "output_type": "execute_result"
    }
   ],
   "source": [
    "typeof(sur)"
   ]
  },
  {
   "cell_type": "code",
   "execution_count": 24,
   "id": "d207b400-c508-47d8-b862-ad421d719ee1",
   "metadata": {},
   "outputs": [
    {
     "data": {
      "text/plain": [
       "sum_float_array (generic function with 1 method)"
      ]
     },
     "execution_count": 24,
     "metadata": {},
     "output_type": "execute_result"
    }
   ],
   "source": [
    "function sum_float_array(x::AbstractVector{<:Number})\n",
    "    sum = 0.0\n",
    "    for i ∈ eachindex(x)\n",
    "        sum += x[i]\n",
    "    end\n",
    "    return sum\n",
    "end"
   ]
  },
  {
   "cell_type": "code",
   "execution_count": 25,
   "id": "f2303d30-d1e8-4ede-9fff-36f0db86cf1f",
   "metadata": {},
   "outputs": [
    {
     "name": "stdout",
     "output_type": "stream",
     "text": [
      "typeof(x) = StepRangeLen{Float64, Base.TwicePrecision{Float64}, Base.TwicePrecision{Float64}, Int64}\n",
      "Int64\n",
      "Int64\n"
     ]
    },
    {
     "data": {
      "text/plain": [
       "5.0"
      ]
     },
     "execution_count": 25,
     "metadata": {},
     "output_type": "execute_result"
    }
   ],
   "source": [
    "x = range(0, 1, length=Int(1e6))\n",
    "# x = collect(x)\n",
    "@show typeof(x)\n",
    "sum_float_array([2, 3])"
   ]
  },
  {
   "cell_type": "code",
   "execution_count": 27,
   "id": "08d1874f-49db-463f-a4e6-a15d795c29f6",
   "metadata": {},
   "outputs": [
    {
     "data": {
      "text/plain": [
       "true"
      ]
     },
     "execution_count": 27,
     "metadata": {},
     "output_type": "execute_result"
    }
   ],
   "source": [
    "LowerTriangular <: AbstractMatrix"
   ]
  },
  {
   "cell_type": "code",
   "execution_count": 29,
   "id": "c7d0aa95-bae0-454c-ae45-04afe7a6ba50",
   "metadata": {},
   "outputs": [
    {
     "data": {
      "text/plain": [
       "f (generic function with 1 method)"
      ]
     },
     "execution_count": 29,
     "metadata": {},
     "output_type": "execute_result"
    }
   ],
   "source": [
    "f(x) = x"
   ]
  },
  {
   "cell_type": "code",
   "execution_count": 31,
   "id": "f7608dc4-470e-4410-8a27-e90a42e4e9a8",
   "metadata": {},
   "outputs": [
    {
     "data": {
      "text/plain": [
       "true"
      ]
     },
     "execution_count": 31,
     "metadata": {},
     "output_type": "execute_result"
    }
   ],
   "source": [
    "typeof(f) <: Function"
   ]
  },
  {
   "cell_type": "code",
   "execution_count": 32,
   "id": "f026f14e-162b-4fca-b423-50e8f95062a6",
   "metadata": {},
   "outputs": [
    {
     "data": {
      "text/plain": [
       "true"
      ]
     },
     "execution_count": 32,
     "metadata": {},
     "output_type": "execute_result"
    }
   ],
   "source": [
    "typeof(x -> x) <: Function"
   ]
  },
  {
   "cell_type": "code",
   "execution_count": 36,
   "id": "1bb9cf3a-f7a4-4300-8bba-88a1d2db242b",
   "metadata": {},
   "outputs": [],
   "source": [
    "x = Float64[ 1/i for i ∈ 1:1e6 ];"
   ]
  },
  {
   "cell_type": "code",
   "execution_count": 37,
   "id": "53fab071-794a-40a9-a675-eed15eb177a8",
   "metadata": {},
   "outputs": [
    {
     "data": {
      "text/plain": [
       "1000000-element Vector{Float64}:\n",
       " 1.0\n",
       " 0.5\n",
       " 0.3333333333333333\n",
       " 0.25\n",
       " 0.2\n",
       " 0.16666666666666666\n",
       " 0.14285714285714285\n",
       " 0.125\n",
       " 0.1111111111111111\n",
       " 0.1\n",
       " 0.09090909090909091\n",
       " 0.08333333333333333\n",
       " 0.07692307692307693\n",
       " ⋮\n",
       " 1.0000110001210012e-6\n",
       " 1.000010000100001e-6\n",
       " 1.0000090000810007e-6\n",
       " 1.0000080000640005e-6\n",
       " 1.0000070000490004e-6\n",
       " 1.0000060000360003e-6\n",
       " 1.000005000025e-6\n",
       " 1.000004000016e-6\n",
       " 1.000003000009e-6\n",
       " 1.000002000004e-6\n",
       " 1.000001000001e-6\n",
       " 1.0e-6"
      ]
     },
     "execution_count": 37,
     "metadata": {},
     "output_type": "execute_result"
    }
   ],
   "source": [
    "x"
   ]
  },
  {
   "cell_type": "code",
   "execution_count": null,
   "id": "f986a7c8-6234-41fc-a24c-37cd8f58aef7",
   "metadata": {},
   "outputs": [],
   "source": []
  }
 ],
 "metadata": {
  "kernelspec": {
   "display_name": "Julia 1.9.2",
   "language": "julia",
   "name": "julia-1.9"
  },
  "language_info": {
   "file_extension": ".jl",
   "mimetype": "application/julia",
   "name": "julia",
   "version": "1.9.2"
  }
 },
 "nbformat": 4,
 "nbformat_minor": 5
}
