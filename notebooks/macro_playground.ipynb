{
 "cells": [
  {
   "cell_type": "code",
   "execution_count": 1,
   "id": "8395b55a-5f0c-4752-bf06-be4cfa7eafc2",
   "metadata": {},
   "outputs": [],
   "source": [
    "using Plots\n",
    "using LinearAlgebra"
   ]
  },
  {
   "cell_type": "code",
   "execution_count": null,
   "id": "cb1a52ec-244f-4a90-b13a-8113e7a27332",
   "metadata": {},
   "outputs": [],
   "source": [
    "fd_f = @differentiate 2*x + 1"
   ]
  },
  {
   "cell_type": "code",
   "execution_count": null,
   "id": "33d9efbe-a612-43a6-915b-546ac1575e66",
   "metadata": {},
   "outputs": [],
   "source": []
  }
 ],
 "metadata": {
  "kernelspec": {
   "display_name": "Julia 1.10.2",
   "language": "julia",
   "name": "julia-1.10"
  },
  "language_info": {
   "file_extension": ".jl",
   "mimetype": "application/julia",
   "name": "julia",
   "version": "1.10.2"
  }
 },
 "nbformat": 4,
 "nbformat_minor": 5
}
