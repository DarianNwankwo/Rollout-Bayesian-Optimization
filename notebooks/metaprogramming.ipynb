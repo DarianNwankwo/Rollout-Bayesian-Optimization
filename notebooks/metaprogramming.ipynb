{
 "cells": [
  {
   "cell_type": "code",
   "execution_count": 1,
   "id": "6b9fcb5f-3839-4ce6-8ab6-d7ba9c9a5608",
   "metadata": {},
   "outputs": [
    {
     "data": {
      "text/plain": [
       "first_n_natural_numbers (generic function with 1 method)"
      ]
     },
     "execution_count": 1,
     "metadata": {},
     "output_type": "execute_result"
    }
   ],
   "source": [
    "function first_n_natural_numbers(n)\n",
    "    return 1:n\n",
    "end"
   ]
  },
  {
   "cell_type": "code",
   "execution_count": 2,
   "id": "74d0887c-a64e-475a-9067-532c4f644ab3",
   "metadata": {},
   "outputs": [
    {
     "data": {
      "text/plain": [
       "1:10"
      ]
     },
     "execution_count": 2,
     "metadata": {},
     "output_type": "execute_result"
    }
   ],
   "source": [
    "first_ten = first_n_natural_numbers(10)"
   ]
  },
  {
   "cell_type": "code",
   "execution_count": 21,
   "id": "1c440fa0-e235-481e-bd2e-358264afeaf3",
   "metadata": {},
   "outputs": [],
   "source": [
    "exprs = Vector{Expr}(undef, length(first_ten))\n",
    "\n",
    "for (index, number) in enumerate(first_ten)\n",
    "    squared_expr = :($number * $number)\n",
    "    exprs[index] = squared_expr\n",
    "end"
   ]
  },
  {
   "cell_type": "code",
   "execution_count": 61,
   "id": "936d37b0-ab2e-477e-8d7c-66beb782d7b4",
   "metadata": {},
   "outputs": [
    {
     "data": {
      "text/plain": [
       "norm (generic function with 1 method)"
      ]
     },
     "execution_count": 61,
     "metadata": {},
     "output_type": "execute_result"
    }
   ],
   "source": [
    "struct Point{T}\n",
    "    x::T\n",
    "    y::T\n",
    "end\n",
    "\n",
    "function norm(p::Point{<:Real})\n",
    "    return sqrt(p.x^2 + p.y^2)\n",
    "end"
   ]
  },
  {
   "cell_type": "code",
   "execution_count": 63,
   "id": "bd9f5c88-94a9-4cdd-9588-32adab370659",
   "metadata": {},
   "outputs": [
    {
     "data": {
      "text/plain": [
       "2.23606797749979"
      ]
     },
     "execution_count": 63,
     "metadata": {},
     "output_type": "execute_result"
    }
   ],
   "source": [
    "norm(Point{AbstractFloat}(1., 2.))"
   ]
  },
  {
   "cell_type": "code",
   "execution_count": 73,
   "id": "47769cd4-cd3f-4e28-8afd-3e4310797a4c",
   "metadata": {},
   "outputs": [
    {
     "data": {
      "text/plain": [
       "Point{Int64}(1, 2)"
      ]
     },
     "execution_count": 73,
     "metadata": {},
     "output_type": "execute_result"
    }
   ],
   "source": [
    "p = Point{Float64}(1, 2)\n",
    "p1 = Point(1, 2)"
   ]
  },
  {
   "cell_type": "code",
   "execution_count": 67,
   "id": "920607ec-4aaa-425f-b4e8-09380eba86e9",
   "metadata": {},
   "outputs": [
    {
     "data": {
      "text/plain": [
       "Float64"
      ]
     },
     "execution_count": 67,
     "metadata": {},
     "output_type": "execute_result"
    }
   ],
   "source": [
    "typeof(p.x)"
   ]
  },
  {
   "cell_type": "code",
   "execution_count": null,
   "id": "61e56290-6d91-4355-b74c-a8fdfe417860",
   "metadata": {},
   "outputs": [],
   "source": []
  }
 ],
 "metadata": {
  "kernelspec": {
   "display_name": "Julia 1.8.4",
   "language": "julia",
   "name": "julia-1.8"
  },
  "language_info": {
   "file_extension": ".jl",
   "mimetype": "application/julia",
   "name": "julia",
   "version": "1.8.4"
  }
 },
 "nbformat": 4,
 "nbformat_minor": 5
}
