{
 "cells": [
  {
   "cell_type": "code",
   "execution_count": 106,
   "id": "13bfa545-3754-4532-be0c-a2e16c426496",
   "metadata": {},
   "outputs": [],
   "source": [
    "import warnings\n",
    "\n",
    "warnings.filterwarnings(\"ignore\")\n",
    "\n",
    "import pathlib\n",
    "import tempfile\n",
    "from copy import deepcopy\n",
    "from typing import Optional, Tuple\n",
    "\n",
    "import matplotlib.pyplot as plt\n",
    "from matplotlib.axes import Axes\n",
    "from matplotlib.cm import coolwarm\n",
    "import numpy as np\n",
    "import tensorflow as tf\n",
    "\n",
    "import gpflow\n",
    "from gpflow.ci_utils import reduce_in_tests\n",
    "from gpflow.config import default_float\n",
    "import gpflow.kernels.multioutput as mk\n",
    "from gpflow.inducing_variables.inducing_variables import InducingPoints"
   ]
  },
  {
   "cell_type": "code",
   "execution_count": 107,
   "id": "73520d4d-b17c-4542-a50c-dcaed41a4209",
   "metadata": {},
   "outputs": [],
   "source": [
    "def f(x):\n",
    "    return -x**2\n",
    "\n",
    "def df(x):\n",
    "    return -2*x"
   ]
  },
  {
   "cell_type": "code",
   "execution_count": 108,
   "id": "ac5ea7d3-67f7-4f50-bd41-9a685da18261",
   "metadata": {},
   "outputs": [],
   "source": [
    "X = np.array([\n",
    "    [-1.], [0.], [1.]\n",
    "])\n",
    "y = f(X)\n",
    "dy = df(X)"
   ]
  },
  {
   "cell_type": "code",
   "execution_count": 109,
   "id": "a9ab4766-1573-48b8-b47e-790fa2a03343",
   "metadata": {},
   "outputs": [],
   "source": [
    "# kernel = gpflow.kernels.Matern52()"
   ]
  },
  {
   "cell_type": "code",
   "execution_count": 110,
   "id": "41d656d4-db94-46e0-beb8-3c3a52095da2",
   "metadata": {},
   "outputs": [],
   "source": [
    "kernel = gpflow.kernels.SharedIndependent(gpflow.kernels.Matern52(), output_dim=1)"
   ]
  },
  {
   "cell_type": "code",
   "execution_count": 112,
   "id": "a5885525-2655-4dc2-b433-dc9877716d91",
   "metadata": {},
   "outputs": [
    {
     "data": {
      "text/plain": [
       "<tf.Tensor: shape=(3, 1, 3, 1), dtype=float64, numpy=\n",
       "array([[[[1.        ],\n",
       "         [0.52399411],\n",
       "         [0.13866022]]],\n",
       "\n",
       "\n",
       "       [[[0.52399411],\n",
       "         [1.        ],\n",
       "         [0.52399411]]],\n",
       "\n",
       "\n",
       "       [[[0.13866022],\n",
       "         [0.52399411],\n",
       "         [1.        ]]]])>"
      ]
     },
     "execution_count": 112,
     "metadata": {},
     "output_type": "execute_result"
    }
   ],
   "source": [
    "kernel.K(X)"
   ]
  }
 ],
 "metadata": {
  "kernelspec": {
   "display_name": "Python 3 (ipykernel)",
   "language": "python",
   "name": "python3"
  },
  "language_info": {
   "codemirror_mode": {
    "name": "ipython",
    "version": 3
   },
   "file_extension": ".py",
   "mimetype": "text/x-python",
   "name": "python",
   "nbconvert_exporter": "python",
   "pygments_lexer": "ipython3",
   "version": "3.10.9"
  }
 },
 "nbformat": 4,
 "nbformat_minor": 5
}
