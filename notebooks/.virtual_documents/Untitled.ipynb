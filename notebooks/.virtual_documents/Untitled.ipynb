import jax.numpy as jnp
import numpy as np
from jax import grad, jit, vmap

def tanh(x):  # Define a function
  y = jnp.exp(-2.0 * x)
  return (1.0 - y) / (1.0 + y)

def tanh2(x):  # Define a function
  y = jnp.exp(-2.0 * x)
  return (1.0 - y) / (1.0 + y)

grad_tanh = grad(tanh)  # Obtain its gradient function
print(grad_tanh(1.0))   # Evaluate it at x = 1.0
# prints 0.4199743


grad_tanh2 = grad(tanh2)  # Obtain its gradient function
print(grad_tanh2(1.0))   # Evaluate it at x = 1.0


len(dir(jnp.exp(2.)))


len(dir(np.exp(2.)))



