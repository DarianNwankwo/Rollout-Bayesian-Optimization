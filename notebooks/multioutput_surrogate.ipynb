{
 "cells": [
  {
   "cell_type": "markdown",
   "id": "0252178e-f7bb-4a92-9a29-4d44476385a3",
   "metadata": {},
   "source": [
    "## Multi Output Surrogate Checks\n",
    "My gradient computations for the multioutput surrogate are off. This notebook is for checking my computations."
   ]
  },
  {
   "cell_type": "code",
   "execution_count": 36,
   "id": "96f9eea8-6721-4fa5-b21c-4fc3e901f45d",
   "metadata": {},
   "outputs": [],
   "source": [
    "using Zygote\n",
    "using LinearAlgebra\n",
    "using Plots\n",
    "using KernelFunctions"
   ]
  },
  {
   "cell_type": "markdown",
   "id": "f1717591-50b6-4129-a5e5-68e78a07b4c4",
   "metadata": {},
   "source": [
    "Given a covariance function $k(x, y) = \\psi(\\rho)$ with $\\rho = ||r||$ and $r = x - y$."
   ]
  },
  {
   "cell_type": "code",
   "execution_count": 29,
   "id": "7c91356d-94a8-44f1-a494-837c7b410c5b",
   "metadata": {},
   "outputs": [
    {
     "data": {
      "text/plain": [
       "dmatern52_xy (generic function with 1 method)"
      ]
     },
     "execution_count": 29,
     "metadata": {},
     "output_type": "execute_result"
    }
   ],
   "source": [
    "function matern52(variance::Float64, lengthscale::Float64)\n",
    "    return function(x, y)\n",
    "        r = x - y\n",
    "        ρ = norm(r)\n",
    "        c = sqrt(5.) / lengthscale\n",
    "        s = c*ρ\n",
    "        return (1 + s * (1 + s/3.0)) * exp(-s)\n",
    "    end\n",
    "end\n",
    "\n",
    "function dmatern52_xy(variance::Float64, lengthscale::Float64)\n",
    "    kernel = matern52(variance, lengthscale)\n",
    "    return function(x0, y0)\n",
    "        dx, dy = gradient((x, y) -> kernel(x, y), x0, y0)\n",
    "        # return (dx=dx, dy=dy)\n",
    "        return [dx, dy]\n",
    "    end\n",
    "end\n",
    "\n"
   ]
  },
  {
   "cell_type": "code",
   "execution_count": 30,
   "id": "6a9fbcd7-bbbb-40d5-8c74-c8cf31cf676a",
   "metadata": {},
   "outputs": [
    {
     "data": {
      "text/plain": [
       "#35 (generic function with 1 method)"
      ]
     },
     "execution_count": 30,
     "metadata": {},
     "output_type": "execute_result"
    }
   ],
   "source": [
    "kernel = matern52(1., 1.)\n",
    "dkernel = dmatern52_xy(1., 1.)"
   ]
  },
  {
   "cell_type": "code",
   "execution_count": 31,
   "id": "e329f881-3aa8-47ec-93f9-9eed4a0ab56a",
   "metadata": {},
   "outputs": [
    {
     "data": {
      "text/plain": [
       "2-element Vector{Float64}:\n",
       "  0.0\n",
       " -0.0"
      ]
     },
     "execution_count": 31,
     "metadata": {},
     "output_type": "execute_result"
    }
   ],
   "source": [
    "dkernel(1., 1.)"
   ]
  },
  {
   "cell_type": "code",
   "execution_count": 34,
   "id": "e7452095-b7cd-4374-881e-dc5730b2a67f",
   "metadata": {},
   "outputs": [
    {
     "data": {
      "text/plain": [
       "([0.0, 0.0], [-0.0, -0.0])"
      ]
     },
     "execution_count": 34,
     "metadata": {},
     "output_type": "execute_result"
    }
   ],
   "source": [
    "kernel = matern52(1., 1.)\n",
    "jacobian((x,y) -> dkernel(x, y), 0., 0.)"
   ]
  },
  {
   "cell_type": "code",
   "execution_count": 35,
   "id": "d8b9c0ae-fdf7-4c11-8431-f39ee9b2399d",
   "metadata": {},
   "outputs": [
    {
     "data": {
      "text/plain": [
       "-2.0:0.01606425702811245:2.0"
      ]
     },
     "execution_count": 35,
     "metadata": {},
     "output_type": "execute_result"
    }
   ],
   "source": [
    "xmin, xmax = -2, 2\n",
    "domain = range(xmin, stop=xmax, length=250)"
   ]
  },
  {
   "cell_type": "code",
   "execution_count": null,
   "id": "d18547ee-f534-413b-8b0e-188aad4ae52f",
   "metadata": {},
   "outputs": [],
   "source": [
    "function"
   ]
  }
 ],
 "metadata": {
  "kernelspec": {
   "display_name": "Julia 1.8.4",
   "language": "julia",
   "name": "julia-1.8"
  },
  "language_info": {
   "file_extension": ".jl",
   "mimetype": "application/julia",
   "name": "julia",
   "version": "1.8.4"
  }
 },
 "nbformat": 4,
 "nbformat_minor": 5
}
