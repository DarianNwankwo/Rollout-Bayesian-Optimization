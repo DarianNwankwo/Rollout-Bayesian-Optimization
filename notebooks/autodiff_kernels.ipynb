{
 "cells": [
  {
   "cell_type": "code",
   "execution_count": 1,
   "id": "6b103251-9bc1-45fe-be96-883f1e093dc2",
   "metadata": {},
   "outputs": [],
   "source": [
    "using LinearAlgebra\n",
    "using Plots\n",
    "using Zygote"
   ]
  },
  {
   "cell_type": "code",
   "execution_count": 9,
   "id": "b5d1ae93-6099-4b89-bd63-782dca995d4e",
   "metadata": {},
   "outputs": [
    {
     "name": "stdout",
     "output_type": "stream",
     "text": [
      "Gradient with respect to x: [-0.0747026414177467, -0.2541475582776174, 0.19544818120096827]\n",
      "Gradient with respect to y: [0.0747026414177467, 0.2541475582776174, -0.19544818120096827]\n"
     ]
    }
   ],
   "source": [
    "function matern52(x, y)\n",
    "    r = norm(x - y)\n",
    "    return (1 + sqrt(5)*r + 5/3*r^2) * exp(-sqrt(5)*r)\n",
    "end\n",
    "\n",
    "x = rand(3)  # Replace with your x\n",
    "y = rand(3)  # Replace with your y\n",
    "\n",
    "# Compute gradients with respect to x and y\n",
    "grad_x = Zygote.gradient(x -> matern52(x, y), x)[1]\n",
    "grad_y = Zygote.gradient(y -> matern52(x, y), y)[1]\n",
    "\n",
    "# Compute gradient of the gradient with respect to x and y\n",
    "# hessian_x = Zygote.gradient(x -> Zygote.gradient(x -> matern52(x, y), x)[1], x)[1]\n",
    "# hessian_y = Zygote.gradient(y -> Zygote.gradient(y -> matern52(x, y), y)[1], y)[1]\n",
    "\n",
    "println(\"Gradient with respect to x: \", grad_x)\n",
    "println(\"Gradient with respect to y: \", grad_y)\n",
    "# println(\"Hessian with respect to x: \", hessian_x)\n",
    "# println(\"Hessian with respect to y: \", hessian_y)"
   ]
  },
  {
   "cell_type": "code",
   "execution_count": null,
   "id": "6e188e17-4848-4720-a667-e1bb658d0d0a",
   "metadata": {},
   "outputs": [],
   "source": []
  }
 ],
 "metadata": {
  "kernelspec": {
   "display_name": "Julia 1.8.4",
   "language": "julia",
   "name": "julia-1.8"
  },
  "language_info": {
   "file_extension": ".jl",
   "mimetype": "application/julia",
   "name": "julia",
   "version": "1.8.4"
  }
 },
 "nbformat": 4,
 "nbformat_minor": 5
}
