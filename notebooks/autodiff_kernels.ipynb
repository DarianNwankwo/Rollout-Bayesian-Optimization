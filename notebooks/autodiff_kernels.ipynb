{
 "cells": [
  {
   "cell_type": "code",
   "execution_count": 1,
   "id": "ad710db6-db41-4731-8871-f9ff2172fa3c",
   "metadata": {},
   "outputs": [],
   "source": [
    "using DualNumbers"
   ]
  },
  {
   "cell_type": "code",
   "execution_count": 17,
   "id": "62474439-6179-40a9-b1be-95b2a6623be9",
   "metadata": {},
   "outputs": [
    {
     "data": {
      "text/plain": [
       "4.0 + 1.0ɛ"
      ]
     },
     "execution_count": 17,
     "metadata": {},
     "output_type": "execute_result"
    }
   ],
   "source": [
    "d = Dual(4., 1.)"
   ]
  },
  {
   "cell_type": "code",
   "execution_count": 18,
   "id": "d73b9408-98e8-422f-9559-5dd77b4248ba",
   "metadata": {},
   "outputs": [
    {
     "data": {
      "text/plain": [
       "f (generic function with 1 method)"
      ]
     },
     "execution_count": 18,
     "metadata": {},
     "output_type": "execute_result"
    }
   ],
   "source": [
    "f(x) = x^2"
   ]
  },
  {
   "cell_type": "code",
   "execution_count": 21,
   "id": "c212c94c-c36a-40f0-a950-1df294f76504",
   "metadata": {},
   "outputs": [
    {
     "data": {
      "text/plain": [
       "16.0 + 8.0ɛ"
      ]
     },
     "execution_count": 21,
     "metadata": {},
     "output_type": "execute_result"
    }
   ],
   "source": [
    "f(d)"
   ]
  },
  {
   "cell_type": "code",
   "execution_count": null,
   "id": "c89d69c4-886e-4b09-aa9e-1635edd8b5ad",
   "metadata": {},
   "outputs": [],
   "source": []
  }
 ],
 "metadata": {
  "kernelspec": {
   "display_name": "Julia 1.10.4",
   "language": "julia",
   "name": "julia-1.10"
  },
  "language_info": {
   "file_extension": ".jl",
   "mimetype": "application/julia",
   "name": "julia",
   "version": "1.10.4"
  }
 },
 "nbformat": 4,
 "nbformat_minor": 5
}
