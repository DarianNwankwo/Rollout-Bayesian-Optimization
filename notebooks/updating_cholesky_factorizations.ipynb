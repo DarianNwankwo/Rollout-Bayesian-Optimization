{
 "cells": [
  {
   "cell_type": "markdown",
   "id": "c56fbba4-9bde-4509-8d0f-e14b7bc929d9",
   "metadata": {},
   "source": [
    "## Updating Cholesky Factorizations"
   ]
  },
  {
   "cell_type": "code",
   "execution_count": 1,
   "id": "9edbf27d-fe45-4c58-aa3e-bbfb7bdd4477",
   "metadata": {},
   "outputs": [],
   "source": [
    "using DataFrames\n",
    "using LinearAlgebra\n",
    "using Plots"
   ]
  },
  {
   "cell_type": "code",
   "execution_count": 2,
   "id": "7b43b958-50b6-43f0-9c33-454917b8f3af",
   "metadata": {},
   "outputs": [
    {
     "data": {
      "text/plain": [
       "TestGramacyLee (generic function with 1 method)"
      ]
     },
     "execution_count": 2,
     "metadata": {},
     "output_type": "execute_result"
    }
   ],
   "source": [
    "include(\"../rollout.jl\")\n",
    "include(\"../testfns.jl\")\n",
    "include(\"./CovarianceMatrix.jl\")\n",
    "include(\"../testfns.jl\")"
   ]
  },
  {
   "cell_type": "markdown",
   "id": "729c2c98-ef3a-45e3-9423-fef51be760cf",
   "metadata": {},
   "source": [
    "Let's concern ourselves with matrices. In particular, covariances matrices. Suppose we have some data generating process that produces $m$ samples with no gradient observations and $h+1$ samples with gradient observations of $d$ dimensions. Let's put some symbols to the aforementioned.\n",
    "\n",
    "$$\n",
    "X^{m+h+1} :=\\begin{bmatrix} \\textbf{x}^{-m} \\;\\dots \\;\\textbf{x}^{-1} | \\;\\textbf{x}^0 | \\; \\textbf{x}^1 \n",
    "\\;\\dots\\; \\textbf{x}^h\\end{bmatrix} \\in \\mathbb{R}^{d\\times (m+h+1)}\n",
    "$$\n",
    "\n",
    "where $x^k \\in \\mathbb{R}^d$ and $-m \\leq k \\leq h$. If we consider the problem of computing mixed covariances, it proves useful to distinguise the covariance measures into several categorizations:\n",
    "- $A$ will denote the covariances between function values strictly.\n",
    "- $B$ will denote the covariances between fantasized function values and known samples.\n",
    "- $C$ will denote the covariances between fantasized function values against themselves.\n",
    "- $D$ will denote the covariances between fantasized gradients and known function values.\n",
    "- $E$ will denote the covariances between fantasized gradients against fantasized function values.\n",
    "- $G$ will denote the covariances between fantasized gradienst against themselves.\n",
    "\n",
    "We'll denote the mixed covariance matrix as $K_{all}$, shown below:\n",
    "\n",
    "$$\n",
    "K_{all} = \\begin{bmatrix}\n",
    "    A & B^T & D^T \\\\\n",
    "    B & C & E^T \\\\\n",
    "    D & E & G\n",
    "\\end{bmatrix} = \\begin{bmatrix}\n",
    "    L_{11} & 0 & 0 \\\\\n",
    "    L_{21} & L_{22} & 0 \\\\\n",
    "    L_{31} & L_{32} & L_{33}\n",
    "\\end{bmatrix}\\begin{bmatrix}\n",
    "    L_{11}^T & L_{21}^T & L_{31}^T \\\\\n",
    "    0 & L_{22}^T & L_{32}^T \\\\\n",
    "    0 & 0 & L_{33}^T\n",
    "\\end{bmatrix}\n",
    "$$"
   ]
  },
  {
   "cell_type": "markdown",
   "id": "f9d4ac0c-a593-45e0-9fbc-aac09fc381f2",
   "metadata": {},
   "source": [
    "$\\therefore$ We have the following relations, where $L_{11}$ is the known cholesky factor for A.\n",
    "$$\n",
    "A = L_{11}L_{11}^T \\\\\n",
    "B^T = L_{11}L_{21}^T \\;\\land\\; B = L_{21}L_{11}^T \\\\\n",
    "D^T = L_{11}L_{31}^T \\;\\land\\; D = L_{31}L_{11}^T \\\\\n",
    "C = L_{21}L_{21}^T + L_{22}L_{22}^T \\\\\n",
    "E^T = L_{21}L_{31}^T + L_{22}L_{32}^T \\;\\land\\; E = L_{31}L_{21}^T + L_{32}L_{22}^T \\\\\n",
    "G = L_{31}L_{31}^T + L_{32}L_{32}^T + L_{33}L_{33}^T\n",
    "$$"
   ]
  },
  {
   "cell_type": "markdown",
   "id": "7012431b-b99f-4b76-9a8a-57e16224e97b",
   "metadata": {},
   "source": [
    "Let's consider the problem of block updates without gradient observations first."
   ]
  },
  {
   "cell_type": "markdown",
   "id": "1f4a3435-b55e-4661-a094-ae8f1483d425",
   "metadata": {},
   "source": [
    "$$\n",
    "K_{all} = \\begin{bmatrix}\n",
    "    A & B^T \\\\\n",
    "    B & C \\\\\n",
    "\\end{bmatrix} = \\begin{bmatrix}\n",
    "    L_{11} & 0 \\\\\n",
    "    L_{21} & L_{22} \\\\\n",
    "\\end{bmatrix}\\begin{bmatrix}\n",
    "    L_{11}^T & L_{21}^T \\\\\n",
    "    0 & L_{22}^T \\\\\n",
    "\\end{bmatrix}\n",
    "$$\n",
    "\n",
    "$\\therefore$ We have the following relations, where $L_{11}$ is the known cholesky factor for A.\n",
    "$$\n",
    "A = L_{11}L_{11}^T \\\\\n",
    "B^T = L_{11}L_{21}^T \\;\\land\\; B = L_{21}L_{11}^T \\\\\n",
    "C = L_{21}L_{21}^T + L_{22}L_{22}^T \\\\\n",
    "$$"
   ]
  },
  {
   "cell_type": "code",
   "execution_count": 241,
   "id": "aa09802b-9969-4e5c-830a-0efc212eed84",
   "metadata": {},
   "outputs": [
    {
     "name": "stdout",
     "output_type": "stream",
     "text": [
      "  0.003750 seconds (5 allocations: 2.747 MiB)\n",
      "  0.007891 seconds (52 allocations: 6.868 MiB)\n"
     ]
    },
    {
     "data": {
      "text/plain": [
       "true"
      ]
     },
     "execution_count": 241,
     "metadata": {},
     "output_type": "execute_result"
    }
   ],
   "source": [
    "m, n, d = 300, 300, 100\n",
    "θ = [1.]\n",
    "ψ = kernel_matern52(θ)\n",
    "\n",
    "X = rand(d, m+n)\n",
    "A = eval_KXX(ψ, X[:, 1:m])\n",
    "L11 = cholesky(A).U'\n",
    "Kall = eval_KXX(ψ, X)\n",
    "Lall = cholesky(Kall).U'\n",
    "\n",
    "B = @view Kall[m+1:end, 1:m]\n",
    "C = @view Kall[m+1:end, m+1:end];\n",
    "\n",
    "L21 = B / L11'\n",
    "# L22 = cholesky(C - L21*L21').L\n",
    "\n",
    "Lupdate = LowerTriangular(zeros(m+n, m+n))\n",
    "Lupdate[1:m, 1:m] .= L11\n",
    "\n",
    "# Lupdate[m+1:end, 1:m] .= L21\n",
    "Lupdate[m+1:end, 1:m] .= B / L11'\n",
    "\n",
    "# Lupdate[m+1:end, m+1:end] .= L22\n",
    "Lupdate[m+1:end, m+1:end] .= cholesky(C - L21*L21').L\n",
    "\n",
    "Lupdate ≈ Lall # This outputs false"
   ]
  },
  {
   "cell_type": "code",
   "execution_count": null,
   "id": "e807f809-dc39-4d64-b63d-851d0f6076b9",
   "metadata": {},
   "outputs": [],
   "source": []
  },
  {
   "cell_type": "code",
   "execution_count": null,
   "id": "15c2cb36-4015-49f8-b680-0b0c5be7d01c",
   "metadata": {},
   "outputs": [],
   "source": []
  }
 ],
 "metadata": {
  "kernelspec": {
   "display_name": "Julia 1.8.4",
   "language": "julia",
   "name": "julia-1.8"
  },
  "language_info": {
   "file_extension": ".jl",
   "mimetype": "application/julia",
   "name": "julia",
   "version": "1.8.4"
  }
 },
 "nbformat": 4,
 "nbformat_minor": 5
}
