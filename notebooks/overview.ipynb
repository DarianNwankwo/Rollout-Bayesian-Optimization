{
 "cells": [
  {
   "cell_type": "markdown",
   "id": "c594d23d-1256-45d4-916a-afd55c6f002c",
   "metadata": {},
   "source": [
    "# General Computations for Differentiating Arbitrary Policies for Rollout Bayesian Optimization"
   ]
  },
  {
   "cell_type": "code",
   "execution_count": null,
   "id": "02e2558f-9600-4f5b-90ff-ef2128f6d0b8",
   "metadata": {},
   "outputs": [],
   "source": []
  }
 ],
 "metadata": {
  "kernelspec": {
   "display_name": "Julia nodeps 1.10.5",
   "language": "julia",
   "name": "julia-nodeps-1.10"
  },
  "language_info": {
   "file_extension": ".jl",
   "mimetype": "application/julia",
   "name": "julia",
   "version": "1.10.5"
  }
 },
 "nbformat": 4,
 "nbformat_minor": 5
}
