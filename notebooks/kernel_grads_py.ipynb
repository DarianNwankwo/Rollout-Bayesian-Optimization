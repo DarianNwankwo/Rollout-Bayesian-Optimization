{
 "cells": [
  {
   "cell_type": "code",
   "execution_count": 1,
   "id": "c6542f0a-7189-4afd-b186-146b3da45631",
   "metadata": {},
   "outputs": [],
   "source": [
    "import GPy\n",
    "import numpy as np\n",
    "\n",
    "from GPy.kern import Kern\n",
    "from GPy.kern.src.stationary import Stationary"
   ]
  },
  {
   "cell_type": "code",
   "execution_count": 2,
   "id": "a03dfa41-98fc-4f17-980d-6e97f34c0987",
   "metadata": {},
   "outputs": [],
   "source": [
    "observations = np.array([[-1.], [0.], [1.]])"
   ]
  },
  {
   "cell_type": "code",
   "execution_count": 4,
   "id": "515db584-052f-4f06-b6b2-7d452c5c1866",
   "metadata": {},
   "outputs": [],
   "source": [
    "class Matern52withDerivatives(Stationary):\n",
    "    \"\"\"\n",
    "    Matern 5/2 kernel:\n",
    "\n",
    "    .. math::\n",
    "\n",
    "       k(r) = \\sigma^2 (1 + \\sqrt{5} r + \\\\frac53 r^2) \\exp(- \\sqrt{5} r)\n",
    "    \"\"\"\n",
    "    def __init__(self, input_dim, variance=1., lengthscale=None, ARD=False, active_dims=None, name='Mat52'):\n",
    "        super(Matern52withDerivatives, self).__init__(input_dim, variance, lengthscale, ARD, active_dims, name)\n",
    "\n",
    "    def to_dict(self):\n",
    "        \"\"\"\n",
    "        Convert the object into a json serializable dictionary.\n",
    "\n",
    "        Note: It uses the private method _save_to_input_dict of the parent.\n",
    "\n",
    "        :return dict: json serializable dictionary containing the needed information to instantiate the object\n",
    "        \"\"\"\n",
    "        input_dict = super(Matern52withDerivatives, self)._save_to_input_dict()\n",
    "        input_dict[\"class\"] = \"GPy.kern.Matern52\"\n",
    "        return input_dict\n",
    "\n",
    "\n",
    "    @staticmethod\n",
    "    def _build_from_input_dict(kernel_class, input_dict):\n",
    "        useGPU = input_dict.pop('useGPU', None)\n",
    "        return Matern52(**input_dict)\n",
    "\n",
    "    def K_of_r(self, r):\n",
    "        return self.variance*(1+np.sqrt(5.)*r+5./3*r**2)*np.exp(-np.sqrt(5.)*r)\n",
    "\n",
    "\n",
    "    def dK_dr(self, r):\n",
    "        return self.variance*(10./3*r -5.*r -5.*np.sqrt(5.)/3*r**2)*np.exp(-np.sqrt(5.)*r)\n",
    "\n",
    "    def dK2_drdr(self, r):\n",
    "        return self.variance * (10. / 3 - 10. * np.sqrt(5.) * r + 25. / 3 * r ** 2 + 5. * np.sqrt(5.) * r ** 3 - 25. / 3 * r ** 4) * np.exp(-np.sqrt(5.) * r)\n",
    "\n",
    "    def Gram_matrix(self, F, F1, F2, F3, lower, upper):\n",
    "        \"\"\"\n",
    "        Return the Gram matrix of the vector of functions F with respect to the RKHS norm. The use of this function is limited to input_dim=1.\n",
    "    \n",
    "        :param F: vector of functions\n",
    "        :type F: np.array\n",
    "        :param F1: vector of derivatives of F\n",
    "        :type F1: np.array\n",
    "        :param F2: vector of second derivatives of F\n",
    "        :type F2: np.array\n",
    "        :param F3: vector of third derivatives of F\n",
    "        :type F3: np.array\n",
    "        :param lower,upper: boundaries of the input domain\n",
    "        :type lower,upper: floats\n",
    "        \"\"\"\n",
    "        assert self.input_dim == 1\n",
    "        def L(x,i):\n",
    "            return(5*np.sqrt(5)/self.lengthscale**3*F[i](x) + 15./self.lengthscale**2*F1[i](x)+ 3*np.sqrt(5)/self.lengthscale*F2[i](x) + F3[i](x))\n",
    "        n = F.shape[0]\n",
    "        G = np.zeros((n,n))\n",
    "        for i in range(n):\n",
    "            for j in range(i,n):\n",
    "                G[i,j] = G[j,i] = integrate.quad(lambda x : L(x,i)*L(x,j),lower,upper)[0]\n",
    "        G_coef = 3.*self.lengthscale**5/(400*np.sqrt(5))\n",
    "        Flower = np.array([f(lower) for f in F])[:,None]\n",
    "        F1lower = np.array([f(lower) for f in F1])[:,None]\n",
    "        F2lower = np.array([f(lower) for f in F2])[:,None]\n",
    "        orig = 9./8*np.dot(Flower,Flower.T) + 9.*self.lengthscale**4/200*np.dot(F2lower,F2lower.T)\n",
    "        orig2 = 3./5*self.lengthscale**2 * ( np.dot(F1lower,F1lower.T) + 1./8*np.dot(Flower,F2lower.T) + 1./8*np.dot(F2lower,Flower.T))\n",
    "        return(1./self.variance* (G_coef*G + orig + orig2))\n"
   ]
  },
  {
   "cell_type": "code",
   "execution_count": 16,
   "id": "38efe94a-c0c8-4f55-a9ce-0f4afb45fe62",
   "metadata": {},
   "outputs": [],
   "source": [
    "kernel = Matern52withDerivatives(input_dim=1, variance=1., lengthscale=1.)"
   ]
  },
  {
   "cell_type": "code",
   "execution_count": 20,
   "id": "1c23ce54-6281-45e6-b980-7e23f02dfe78",
   "metadata": {},
   "outputs": [
    {
     "data": {
      "text/plain": [
       "array([0.])"
      ]
     },
     "execution_count": 20,
     "metadata": {},
     "output_type": "execute_result"
    }
   ],
   "source": [
    "kernel.dK_dr(0.)"
   ]
  },
  {
   "cell_type": "code",
   "execution_count": 25,
   "id": "fd65157a-bb19-45cb-ade9-fa66bd891f69",
   "metadata": {},
   "outputs": [],
   "source": [
    "def mc(d):\n",
    "    return (1 + np.sqrt(5)*d + 5*(d*d)) * np.exp(-np.sqrt(5) * d)\n",
    "\n",
    "def dmc(d):\n",
    "    return mc(d) * -np.sqrt(5) + (np.sqrt(5) + 10*d)*np.exp(-np.sqrt(5)*d)\n",
    "\n",
    "def d2mc(d):\n",
    "    return -np.sqrt(5)*dmc(d) + (np.sqrt(5) + 10*d)*np.exp(-np.sqrt(5) * d)*(-np.sqrt(5)) + np.exp(-np.sqrt(5)*d)*10"
   ]
  },
  {
   "cell_type": "code",
   "execution_count": 26,
   "id": "0c1cb932-6d79-4b69-9d01-8d2bcebee83f",
   "metadata": {},
   "outputs": [
    {
     "data": {
      "text/plain": [
       "4.999999999999999"
      ]
     },
     "execution_count": 26,
     "metadata": {},
     "output_type": "execute_result"
    }
   ],
   "source": [
    "d2mc(0.)"
   ]
  },
  {
   "cell_type": "code",
   "execution_count": 7,
   "id": "7aa08f32-375e-43f6-abf7-5e00ebcdf89a",
   "metadata": {},
   "outputs": [
    {
     "data": {
      "text/plain": [
       "array([3.33333333])"
      ]
     },
     "execution_count": 7,
     "metadata": {},
     "output_type": "execute_result"
    }
   ],
   "source": [
    "kernel.dK2_drdr(0.)"
   ]
  },
  {
   "cell_type": "code",
   "execution_count": null,
   "id": "e43b8b8a-96e2-4452-8bec-1704884ac56c",
   "metadata": {},
   "outputs": [],
   "source": [
    "cov_matrix = kernel.K(observations)"
   ]
  },
  {
   "cell_type": "code",
   "execution_count": null,
   "id": "48ffbac7-e37e-4e6d-af69-985947f3506f",
   "metadata": {},
   "outputs": [],
   "source": [
    "d, N = 1, observations.shape[0]\n",
    "rows = cols = (d + 1) * N\n",
    "grad_matrix = np.zeros((rows, cols))"
   ]
  },
  {
   "cell_type": "code",
   "execution_count": null,
   "id": "aff6fe5e-8728-4a51-bca0-a1e8c76081d9",
   "metadata": {},
   "outputs": [],
   "source": [
    "for i in range(len(observations)):\n",
    "    for j in range(len(observations)):\n",
    "        r = np.linalg.norm(observations[i] - observations[j])\n",
    "        eval_k = kernel.K_of_r(r)\n",
    "        eval_dk = kernel.dK_dr(r)"
   ]
  },
  {
   "cell_type": "code",
   "execution_count": null,
   "id": "b452c5a9-ec98-40f3-8ffe-30ddb8d0217b",
   "metadata": {},
   "outputs": [],
   "source": [
    "kernel.dK2_drdr(0)"
   ]
  },
  {
   "cell_type": "code",
   "execution_count": null,
   "id": "b9220806-0bb5-4b9e-94bf-673557cfb762",
   "metadata": {},
   "outputs": [],
   "source": []
  }
 ],
 "metadata": {
  "kernelspec": {
   "display_name": "base",
   "language": "python",
   "name": "base"
  },
  "language_info": {
   "codemirror_mode": {
    "name": "ipython",
    "version": 3
   },
   "file_extension": ".py",
   "mimetype": "text/x-python",
   "name": "python",
   "nbconvert_exporter": "python",
   "pygments_lexer": "ipython3",
   "version": "3.10.9"
  }
 },
 "nbformat": 4,
 "nbformat_minor": 5
}
