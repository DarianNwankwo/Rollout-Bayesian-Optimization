{
 "cells": [
  {
   "cell_type": "code",
   "execution_count": 1,
   "id": "e645f786-c105-4ba0-b35f-8d9486643c46",
   "metadata": {},
   "outputs": [],
   "source": [
    "using Distributions\n",
    "using LinearAlgebra\n",
    "using Plots\n",
    "using Sobol\n",
    "using Random\n",
    "using Profile\n",
    "using BenchmarkTools"
   ]
  },
  {
   "cell_type": "code",
   "execution_count": 4,
   "id": "8843b5ef-482f-4734-b367-80f633332132",
   "metadata": {},
   "outputs": [
    {
     "data": {
      "text/plain": [
       "distributed_rollout_solver (generic function with 1 method)"
      ]
     },
     "execution_count": 4,
     "metadata": {},
     "output_type": "execute_result"
    }
   ],
   "source": [
    "include(\"../testfns.jl\")\n",
    "include(\"../rollout.jl\")"
   ]
  },
  {
   "cell_type": "code",
   "execution_count": 5,
   "id": "6fdbcfd6-9734-4592-9454-1ae1f9fc18fb",
   "metadata": {},
   "outputs": [
    {
     "data": {
      "text/plain": [
       "generate_initial_guesses (generic function with 1 method)"
      ]
     },
     "execution_count": 5,
     "metadata": {},
     "output_type": "execute_result"
    }
   ],
   "source": [
    "function generate_initial_guesses(N::Int, lbs::Vector{T}, ubs::Vector{T},) where T <: Number\n",
    "    ϵ = 1e-6\n",
    "    seq = SobolSeq(lbs, ubs)\n",
    "    initial_guesses = reduce(hcat, next!(seq) for i = 1:N)\n",
    "    initial_guesses = hcat(initial_guesses, lbs .+ ϵ)\n",
    "    initial_guesses = hcat(initial_guesses, ubs .- ϵ)\n",
    "\n",
    "    return initial_guesses\n",
    "end"
   ]
  },
  {
   "cell_type": "code",
   "execution_count": 25,
   "id": "c359ea9e-5770-44a1-88cd-606d62a8499b",
   "metadata": {},
   "outputs": [],
   "source": [
    "testfn_payloads = Dict(\n",
    "    \"gramacylee\" => (name=\"gramacylee\", fn=TestGramacyLee, args=()),\n",
    "    \"rastrigin\" => (name=\"rastrigin\", fn=TestRastrigin, args=(1)),\n",
    "    \"ackley1d\" => (name=\"ackley1d\", fn=TestAckley, args=(1)),\n",
    "    \"ackley2d\" => (name=\"ackley2d\", fn=TestAckley, args=(2)),\n",
    "    \"ackley3d\" => (name=\"ackley3d\", fn=TestAckley, args=(3)),\n",
    "    \"ackley4d\" => (name=\"ackley4d\", fn=TestAckley, args=(4)),\n",
    "    \"ackley10d\" => (name=\"ackley10d\", fn=TestAckley, args=(2)),\n",
    "    \"rosenbrock\" => (name=\"rosenbrock\", fn=TestRosenbrock, args=()),\n",
    "    \"sixhump\" => (name=\"sixhump\", fn=TestSixHump, args=()),\n",
    "    \"braninhoo\" => (name=\"braninhoo\", fn=TestBraninHoo, args=()),\n",
    "    \"hartmann3d\" => (name=\"hartmann3d\", fn=TestHartmann3D, args=()),\n",
    "    \"goldsteinprice\" => (name=\"goldsteinprice\", fn=TestGoldsteinPrice, args=()),\n",
    "    \"beale\" => (name=\"beale\", fn=TestBeale, args=()),\n",
    "    \"easom\" => (name=\"easom\", fn=TestEasom, args=()),\n",
    "    \"styblinskitang1d\" => (name=\"styblinskitang1d\", fn=TestStyblinskiTang, args=(1)),\n",
    "    \"styblinskitang2d\" => (name=\"styblinskitang2d\", fn=TestStyblinskiTang, args=(2)),\n",
    "    \"styblinskitang3d\" => (name=\"styblinskitang3d\", fn=TestStyblinskiTang, args=(3)),\n",
    "    \"styblinskitang4d\" => (name=\"styblinskitang4d\", fn=TestStyblinskiTang, args=(4)),\n",
    "    \"styblinskitang10d\" => (name=\"styblinskitang10d\", fn=TestStyblinskiTang, args=(10)),\n",
    "    \"bukinn6\" => (name=\"bukinn6\", fn=TestBukinN6, args=()),\n",
    "    \"crossintray\" => (name=\"crossintray\", fn=TestCrossInTray, args=()),\n",
    "    \"eggholder\" => (name=\"eggholder\", fn=TestEggHolder, args=()),\n",
    "    \"holdertable\" => (name=\"holdertable\", fn=TestHolderTable, args=()),\n",
    "    \"schwefel1d\" => (name=\"schwefel1d\", fn=TestSchwefel, args=(1)),\n",
    "    \"schwefel2d\" => (name=\"schwefel2d\", fn=TestSchwefel, args=(2)),\n",
    "    \"schwefel3d\" => (name=\"schwefel3d\", fn=TestSchwefel, args=(3)),\n",
    "    \"schwefel4d\" => (name=\"schwefel4d\", fn=TestSchwefel, args=(4)),\n",
    "    \"schwefel10d\" => (name=\"schwefel10d\", fn=TestSchwefel, args=(10)),\n",
    "    \"levyn13\" => (name=\"levyn13\", fn=TestLevyN13, args=()),\n",
    "    \"trid1d\" => (name=\"trid1d\", fn=TestTrid, args=(1)),\n",
    "    \"trid2d\" => (name=\"trid2d\", fn=TestTrid, args=(2)),\n",
    "    \"trid3d\" => (name=\"trid3d\", fn=TestTrid, args=(3)),\n",
    "    \"trid4d\" => (name=\"trid4d\", fn=TestTrid, args=(4)),\n",
    "    \"trid10d\" => (name=\"trid10d\", fn=TestTrid, args=(10)),\n",
    "    \"mccormick\" => (name=\"mccormick\", fn=TestMccormick, args=()),\n",
    "    \"hartmann6d\" => (name=\"hartmann6d\", fn=TestHartmann6D, args=()),\n",
    "    \"hartmann4d\" => (name=\"hartmann4d\", fn=TestHartmann4D, args=()),\n",
    "    \"hartmann3d\" => (name=\"hartmann3d\", fn=TestHartmann3D, args=()),\n",
    ")\n",
    "\n",
    "# Paramaters\n",
    "MC_SAMPLES = 1\n",
    "NUMBER_OF_STARTS = 8\n",
    "NUMBER_OF_TRIALS = 1\n",
    "trial = 1\n",
    "HORIZON = 1\n",
    "BUDGET = 1\n",
    "BATCH_SIZE = 16\n",
    "\n",
    "# Gaussian process hyperparameters\n",
    "θ, σn2 = [1.], 1e-6\n",
    "ψ = kernel_matern52(θ)\n",
    "\n",
    "# Build the test function object\n",
    "payload = testfn_payloads[\"hartmann3d\"]\n",
    "# println(\"Running experiment for $(payload.name).\")\n",
    "testfn = payload.fn(payload.args...)\n",
    "lbs, ubs = testfn.bounds[:,1], testfn.bounds[:,2]\n",
    "\n",
    "# Generate low discrepancy sequence\n",
    "lds_rns = gen_low_discrepancy_sequence(MC_SAMPLES, testfn.dim, HORIZON + 1)\n",
    "\n",
    "# Allocate initial guesses for optimizer\n",
    "initial_guesses = generate_initial_guesses(NUMBER_OF_STARTS, lbs, ubs)\n",
    "\n",
    "# Allocate all initial samples\n",
    "initial_samples = randsample(NUMBER_OF_TRIALS, testfn.dim, lbs, ubs)\n",
    "\n",
    "# Allocate space for GAPS\n",
    "rollout_gaps = zeros(BUDGET + 1)\n",
    "\n",
    "# Initialize the trajectory parameters\n",
    "tp = TrajectoryParameters(\n",
    "    initial_samples[:, 1], # Will be overriden later\n",
    "    HORIZON,\n",
    "    MC_SAMPLES,\n",
    "    lds_rns,\n",
    "    lbs,\n",
    "    ubs,\n",
    ")\n",
    "\n",
    "# Initialize batch of points to evaluate the rollout acquisition function\n",
    "batch = generate_batch(BATCH_SIZE, lbs=tp.lbs, ubs=tp.ubs)\n",
    "\n",
    "Xinit = initial_samples[:, trial:trial]\n",
    "yinit = testfn.f.(eachcol(Xinit))\n",
    "sur = fit_surrogate(ψ, Xinit, yinit; σn2=σn2);\n",
    "fsur = fit_fsurrogate(sur, 0);"
   ]
  },
  {
   "cell_type": "code",
   "execution_count": 157,
   "id": "e3b32baa-7d47-4135-89d7-ac928fa4063b",
   "metadata": {},
   "outputs": [
    {
     "data": {
      "text/plain": [
       "multistart_ei_solve (generic function with 1 method)"
      ]
     },
     "execution_count": 157,
     "metadata": {},
     "output_type": "execute_result"
    }
   ],
   "source": [
    "function ei_solve(s::FantasyRBFsurrogate, lbs::Vector{Float64}, ubs::Vector{Float64}\n",
    "    , xstart::Vector{Float64})\n",
    "    fun(x) = -s(x).EI\n",
    "    function fun_grad!(g, x)\n",
    "        EIx = -s(x).∇EI\n",
    "        for i in eachindex(EIx)\n",
    "            g[i] = EIx[i]\n",
    "        end\n",
    "    end\n",
    "    function fun_hess!(h, x)\n",
    "        HEIx = -s(x).HEI\n",
    "        for row in 1:size(HEIx, 1)\n",
    "            for col in 1:size(HEIx, 2)\n",
    "                h[row, col] = HEIx[row, col]\n",
    "            end\n",
    "        end\n",
    "    end\n",
    "\n",
    "    df = TwiceDifferentiable(fun, fun_grad!, fun_hess!, xstart)\n",
    "    dfc = TwiceDifferentiableConstraints(lbs, ubs)\n",
    "    res = optimize(\n",
    "        df, dfc, xstart, IPNewton(),\n",
    "        Optim.Options(x_tol=1e-3, f_tol=1e-3)\n",
    "    )\n",
    "\n",
    "    # return Optim.minimizer(res), res, data\n",
    "    return Optim.minimizer(res), res\n",
    "end\n",
    "\n",
    "function multistart_ei_solve(s::FantasyRBFsurrogate, lbs::Vector{Float64},\n",
    "    ubs::Vector{Float64}, xstarts::Matrix{Float64})::Vector{Float64}\n",
    "    candidates = []\n",
    "    \n",
    "    for i in 1:size(xstarts, 2)\n",
    "        xi = xstarts[:,i]\n",
    "        try\n",
    "            minimizer, res = ei_solve(s, lbs, ubs, xi)\n",
    "            push!(candidates, (minimizer, minimum(res)))\n",
    "        catch e\n",
    "            println(e)\n",
    "        end\n",
    "    end\n",
    "    \n",
    "    candidates = filter(pair -> !any(isnan.(pair[1])), candidates)\n",
    "    mini, j_mini = findmin(pair -> pair[2], candidates)\n",
    "    minimizer = candidates[j_mini][1]\n",
    "\n",
    "    return minimizer\n",
    "end"
   ]
  },
  {
   "cell_type": "code",
   "execution_count": 158,
   "id": "30697892-3d80-4942-b973-b84d06f9efad",
   "metadata": {},
   "outputs": [
    {
     "data": {
      "text/plain": [
       "(value = [0.07283255961961017, 0.9977083367122132, 0.09409060692233179], time = 0.094896808, bytes = 5084318, gctime = 0.019064252, gcstats = Base.GC_Diff(5084318, 0, 0, 76537, 52, 50, 19064252, 1, 0))"
      ]
     },
     "execution_count": 158,
     "metadata": {},
     "output_type": "execute_result"
    }
   ],
   "source": [
    "@timed multistart_ei_solve(fsur, tp.lbs, tp.ubs, initial_guesses)"
   ]
  },
  {
   "cell_type": "code",
   "execution_count": 154,
   "id": "d5582768-f1cf-4458-a0cb-283aefa6f50b",
   "metadata": {},
   "outputs": [
    {
     "data": {
      "text/plain": [
       "(value = [1.6374213302210285e-9, 0.999999999030225, 1.0901343782409662e-9], time = 0.100165638, bytes = 22675376, gctime = 0.0, gcstats = Base.GC_Diff(22675376, 0, 0, 347582, 0, 0, 0, 0, 0))"
      ]
     },
     "execution_count": 154,
     "metadata": {},
     "output_type": "execute_result"
    }
   ],
   "source": [
    "@timed multistart_ei_solve(fsur, tp.lbs, tp.ubs, initial_guesses)"
   ]
  },
  {
   "cell_type": "code",
   "execution_count": 159,
   "id": "29ee2db1-1ae7-44b5-8b30-f5b3bfa16579",
   "metadata": {},
   "outputs": [],
   "source": [
    "using SharedArrays"
   ]
  },
  {
   "cell_type": "code",
   "execution_count": 169,
   "id": "5909467c-77b2-4d98-9c7a-4af87fb9fb03",
   "metadata": {},
   "outputs": [
    {
     "data": {
      "text/plain": [
       "101"
      ]
     },
     "execution_count": 169,
     "metadata": {},
     "output_type": "execute_result"
    }
   ],
   "source": [
    "@allocations SharedMatrix{Float64}(500, 16)"
   ]
  },
  {
   "cell_type": "code",
   "execution_count": 168,
   "id": "e7c9edb8-10ad-43b5-aea9-d9bc91626cb6",
   "metadata": {},
   "outputs": [
    {
     "data": {
      "text/plain": [
       "2"
      ]
     },
     "execution_count": 168,
     "metadata": {},
     "output_type": "execute_result"
    }
   ],
   "source": [
    "@allocations zeros(500, 16)"
   ]
  },
  {
   "cell_type": "code",
   "execution_count": null,
   "id": "16a75145-409b-4bd5-bbd4-80ac88957486",
   "metadata": {},
   "outputs": [],
   "source": []
  }
 ],
 "metadata": {
  "kernelspec": {
   "display_name": "Julia 1.9.2",
   "language": "julia",
   "name": "julia-1.9"
  },
  "language_info": {
   "file_extension": ".jl",
   "mimetype": "application/julia",
   "name": "julia",
   "version": "1.9.2"
  }
 },
 "nbformat": 4,
 "nbformat_minor": 5
}
