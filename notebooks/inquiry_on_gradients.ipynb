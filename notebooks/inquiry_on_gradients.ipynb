{
 "cells": [
  {
   "cell_type": "markdown",
   "id": "d5404fd9-c3eb-4760-bab3-ea7407ff1f93",
   "metadata": {},
   "source": [
    "# Differentiating Trajectories for Rollout Bayesian Optimization"
   ]
  },
  {
   "cell_type": "markdown",
   "id": "92c3a521-6860-46b4-a282-150cc788d2e7",
   "metadata": {},
   "source": [
    "## Table of Contents\n",
    "1. Problem Introduction"
   ]
  },
  {
   "cell_type": "markdown",
   "id": "96c0d27c-8a17-463f-9e99-8c6d7c0c3ddf",
   "metadata": {},
   "source": [
    "## 1. Problem Introduction\n",
    "We are interested in finding $x^* = \\arg\\max_{x \\in \\chi} \\alpha_h(x)$ where\n",
    "$$\n",
    "\\alpha_h(x) = \\mathbb{E}_{\\hat{f}^{i}\\sim\\mathcal{G}}\n",
    "\\left[\\alpha\\big(x|\\tau(h,x,\\bar{\\alpha},\\hat{f}^{i})\\big)\\right]\n",
    "\\approx \\frac{1}{N}\\sum_{i=1}^N (f^*-\\bigl(t^i(x)\\bigr)^-)^+.\n",
    "$$"
   ]
  },
  {
   "cell_type": "markdown",
   "id": "5e1ee7ea-3530-405f-9461-86fa4942b5ea",
   "metadata": {},
   "source": [
    "The notation\n",
    "$$\n",
    "\\frac{\\partial \\nabla f}{\\partial x} \\delta x\n",
    "$$\n",
    "can be thought of as project the rate of change of the gradient in some particular direction $\\delta x$ and "
   ]
  },
  {
   "cell_type": "code",
   "execution_count": null,
   "id": "744fc94d-e138-4323-b8b9-04b2e0e157cd",
   "metadata": {},
   "outputs": [],
   "source": []
  }
 ],
 "metadata": {
  "kernelspec": {
   "display_name": "Julia nodeps 1.10.4",
   "language": "julia",
   "name": "julia-nodeps-1.10"
  },
  "language_info": {
   "file_extension": ".jl",
   "mimetype": "application/julia",
   "name": "julia",
   "version": "1.10.4"
  }
 },
 "nbformat": 4,
 "nbformat_minor": 5
}
